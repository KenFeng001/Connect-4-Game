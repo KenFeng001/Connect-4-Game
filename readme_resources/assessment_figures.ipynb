{
 "cells": [
  {
   "cell_type": "code",
   "execution_count": 4,
   "metadata": {},
   "outputs": [
    {
     "ename": "NameError",
     "evalue": "name 'plt' is not defined",
     "output_type": "error",
     "traceback": [
      "\u001b[1;31m---------------------------------------------------------------------------\u001b[0m",
      "\u001b[1;31mNameError\u001b[0m                                 Traceback (most recent call last)",
      "Cell \u001b[1;32mIn[4], line 6\u001b[0m\n\u001b[0;32m      3\u001b[0m \u001b[38;5;28;01mdef\u001b[39;00m \u001b[38;5;21mcalculate_mark\u001b[39m(wins, draws, forfeits, n_match):\n\u001b[0;32m      4\u001b[0m     \u001b[38;5;28;01mreturn\u001b[39;00m \u001b[38;5;241m0.25\u001b[39m \u001b[38;5;241m*\u001b[39m (n_match \u001b[38;5;241m-\u001b[39m forfeits) \u001b[38;5;241m/\u001b[39m n_match \u001b[38;5;241m+\u001b[39m \u001b[38;5;241m0.75\u001b[39m \u001b[38;5;241m*\u001b[39m ((wins \u001b[38;5;241m+\u001b[39m \u001b[38;5;241m0.5\u001b[39m \u001b[38;5;241m*\u001b[39m draws) \u001b[38;5;241m/\u001b[39m n_match) \u001b[38;5;241m*\u001b[39m\u001b[38;5;241m*\u001b[39m \u001b[38;5;241m3\u001b[39m\n\u001b[1;32m----> 6\u001b[0m fig, ax \u001b[38;5;241m=\u001b[39m \u001b[43mplt\u001b[49m\u001b[38;5;241m.\u001b[39msubplots()\n\u001b[0;32m      8\u001b[0m wins_0_forfeits \u001b[38;5;241m=\u001b[39m np\u001b[38;5;241m.\u001b[39marange(\u001b[38;5;241m0\u001b[39m, \u001b[38;5;241m1001\u001b[39m)\n\u001b[0;32m      9\u001b[0m mark_0_forfeits \u001b[38;5;241m=\u001b[39m calculate_mark(wins_0_forfeits, \u001b[38;5;241m0\u001b[39m, \u001b[38;5;241m0\u001b[39m, \u001b[38;5;241m1000\u001b[39m)\n",
      "\u001b[1;31mNameError\u001b[0m: name 'plt' is not defined"
     ]
    }
   ],
   "source": [
    "import numpy as np\n",
    "import matplotlib.pyplot as plt\n",
    "\n",
    "def calculate_mark(wins, draws, forfeits, n_match):\n",
    "    return 0.25 * (n_match - forfeits) / n_match + 0.75 * ((wins + 0.5 * draws) / n_match) ** 3\n",
    "\n",
    "fig, ax = plt.subplots()\n",
    "\n",
    "wins_0_forfeits = np.arange(0, 1001)\n",
    "mark_0_forfeits = calculate_mark(wins_0_forfeits, 0, 0, 1000)\n",
    "\n",
    "ax.plot(wins_0_forfeits, mark_0_forfeits, label='0 forfeits')"
   ]
  },
  {
   "cell_type": "code",
   "execution_count": null,
   "metadata": {},
   "outputs": [],
   "source": []
  }
 ],
 "metadata": {
  "kernelspec": {
   "display_name": "Python 3",
   "language": "python",
   "name": "python3"
  },
  "language_info": {
   "codemirror_mode": {
    "name": "ipython",
    "version": 3
   },
   "file_extension": ".py",
   "mimetype": "text/x-python",
   "name": "python",
   "nbconvert_exporter": "python",
   "pygments_lexer": "ipython3",
   "version": "3.11.7"
  }
 },
 "nbformat": 4,
 "nbformat_minor": 2
}
