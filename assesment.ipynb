{
 "cells": [
  {
   "cell_type": "code",
   "execution_count": null,
   "metadata": {},
   "outputs": [],
   "source": [
    "from assessment import assess\n",
    "\n",
    "def my_strategy(board, player_number):\n",
    "    '''Write your strategy here\n",
    "    (param) board ([[int]*6]*7): The board the move will be taken on. For each position, will be 0 for unoccupied, 1 for occupied by player 1, 2 for occupied by player 2.\n",
    "    (param) int player_number The number of your pieces in the board\n",
    "    (return) int the number of the column you want your next move to be in (0 for the leftmost column, 6 for the rightmost)'''\n",
    "    #Write your code here\n"
   ]
  },
  {
   "cell_type": "code",
   "execution_count": null,
   "metadata": {},
   "outputs": [],
   "source": [
    "# Run this code cell to assess your strategy\n",
    "assess(my_strategy)"
   ]
  }
 ],
 "metadata": {
  "kernelspec": {
   "display_name": "Python 3",
   "language": "python",
   "name": "python3"
  },
  "language_info": {
   "codemirror_mode": {
    "name": "ipython",
    "version": 3
   },
   "file_extension": ".py",
   "mimetype": "text/x-python",
   "name": "python",
   "nbconvert_exporter": "python",
   "pygments_lexer": "ipython3",
   "version": "3.9.13"
  },
  "orig_nbformat": 4,
  "vscode": {
   "interpreter": {
    "hash": "5dbf766eb95023f9dddb799b5381b4ed6a9322e38632e8ac1570872c767b304b"
   }
  }
 },
 "nbformat": 4,
 "nbformat_minor": 2
}
